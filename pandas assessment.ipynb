{
 "cells": [
  {
   "cell_type": "markdown",
   "id": "63e7e2bc-dfb7-490f-9b49-3b79b2be6497",
   "metadata": {},
   "source": [
    "# given task\n",
    "You are given a CSV file named sales_data.csv containing the following columns:\n",
    "\n",
    "· Order ID\n",
    "\n",
    "· Product\n",
    "\n",
    "· Quantity Ordered\n",
    "\n",
    "· Price Each\n",
    "\n",
    "· Order Date\n",
    "\n",
    "· City\n",
    "\n",
    "Tasks:\n",
    "\n",
    "1. Load the dataset into a pandas DataFrame.\n",
    "\n",
    "2. Display the first 5 rows of the DataFrame.\n",
    "\n",
    "3. Check for any missing values in the dataset.\n",
    "\n",
    "4. Add a new column Total Sales that multiplies Quantity Ordered by Price Each.\n",
    "\n",
    "5. Find the total sales for each city and display it as a new DataFrame.\n",
    "\n",
    "6. Identify the product with the highest total sales.\n",
    "\n",
    "Expected Output Example:\n",
    "\n",
    "· A DataFrame displaying the total sales per city.\n",
    "\n",
    "· The name of the product with the highest sales.\n",
    "\n",
    "\n",
    "\n",
    "Write the pandas commands to perform these tasks."
   ]
  },
  {
   "cell_type": "code",
   "execution_count": 8,
   "id": "c39522c5-e784-4723-bc92-60b8e9bc6f28",
   "metadata": {},
   "outputs": [
    {
     "name": "stdout",
     "output_type": "stream",
     "text": [
      "   Order ID                     Product  Quantity Ordered  Price Each  \\\n",
      "0    176558        USB-C Charging Cable                 2       11.95   \n",
      "1    176559  Bose SoundSport Headphones                 1       99.99   \n",
      "2    176560                Google Phone                 1      600.00   \n",
      "3    176561            Wired Headphones                 3       11.99   \n",
      "4    176562    Lightning Charging Cable                 1       14.95   \n",
      "\n",
      "  Order Date         City  \n",
      "0  1/22/2023     New York  \n",
      "1  1/23/2023  Los Angeles  \n",
      "2  1/23/2023      Chicago  \n",
      "3  1/24/2023      Houston  \n",
      "4  1/24/2023     New York  \n",
      "Order ID            0\n",
      "Product             0\n",
      "Quantity Ordered    0\n",
      "Price Each          0\n",
      "Order Date          0\n",
      "City                0\n",
      "dtype: int64\n",
      "            City  Total Sales\n",
      "0        Chicago      1800.00\n",
      "1        Houston       835.97\n",
      "2    Los Angeles       115.35\n",
      "3       New York        38.85\n",
      "4  San Francisco      1000.00\n",
      "ThinkPad Laptop\n"
     ]
    }
   ],
   "source": [
    "import pandas as pd\n",
    "\n",
    "# 1. Load the dataset into a pandas DataFrame\n",
    "df = pd.read_csv('sales_data.csv')\n",
    "\n",
    "# 2. Display the first 5 rows of the DataFrame\n",
    "print(df.head())\n",
    "\n",
    "# 3. Check for any missing values in the dataset\n",
    "print(df.isnull().sum())\n",
    "\n",
    "# 4. Add a new column Total Sales that multiplies Quantity Ordered by Price Each\n",
    "df['Total Sales'] = df['Quantity Ordered'] * df['Price Each']\n",
    "\n",
    "# 5. Find the total sales for each city and display it as a new DataFrame\n",
    "total_sales_per_city = df.groupby('City')['Total Sales'].sum().reset_index()\n",
    "print(total_sales_per_city)\n",
    "\n",
    "# 6. Identify the product with the highest total sales\n",
    "highest_sales_product = df.groupby('Product')['Total Sales'].sum().idxmax()\n",
    "print(highest_sales_product)"
   ]
  }
 ],
 "metadata": {
  "kernelspec": {
   "display_name": "Python 3 (ipykernel)",
   "language": "python",
   "name": "python3"
  },
  "language_info": {
   "codemirror_mode": {
    "name": "ipython",
    "version": 3
   },
   "file_extension": ".py",
   "mimetype": "text/x-python",
   "name": "python",
   "nbconvert_exporter": "python",
   "pygments_lexer": "ipython3",
   "version": "3.12.7"
  }
 },
 "nbformat": 4,
 "nbformat_minor": 5
}
